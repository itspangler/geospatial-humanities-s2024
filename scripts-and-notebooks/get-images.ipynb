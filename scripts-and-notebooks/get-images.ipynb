{
 "cells": [
  {
   "cell_type": "code",
   "execution_count": 1,
   "metadata": {},
   "outputs": [],
   "source": [
    "import fitz\n",
    "import io\n",
    "from PIL import Image\n",
    "import os\n",
    "import operator\n",
    "from pypdf import PdfReader"
   ]
  },
  {
   "cell_type": "code",
   "execution_count": 3,
   "metadata": {},
   "outputs": [],
   "source": [
    "# Save all images from PDF to folder\n",
    "\n",
    "reader = PdfReader('ArcGISPro_Basics_India_V3.1.3.pdf') \n",
    "\n",
    "for page in reader.pages:\n",
    "    for image in page.images:\n",
    "        with open(image.name, \"wb\") as fp:\n",
    "            fp.write(image.data)"
   ]
  },
  {
   "cell_type": "code",
   "execution_count": 47,
   "metadata": {},
   "outputs": [],
   "source": [
    "# load images as list\n",
    "# define empty dict for reordering\n",
    "\n",
    "imageFolder=\"images\"\n",
    "images=os.listdir(imageFolder)\n",
    "reorder={}\n",
    "\n",
    "# loop through images,\n",
    "# assign each filename with its number as int,\n",
    "# and sort using that int\n",
    "\n",
    "for image in images:\n",
    "    num=int(image.split(\"Image\")[1][:-4])\n",
    "    pair={image:num}\n",
    "    reorder.update(pair)\n",
    "sorted_dict = dict(sorted(reorder.items(), key=operator.itemgetter(1)))\n",
    "\n",
    "# loop through images and rename using counter\n",
    "\n",
    "renamed=[]\n",
    "counter=1\n",
    "for key in sorted_dict:\n",
    "    if len(str(counter))==1:\n",
    "        rename=key[:5]+f\"00{counter}.png\"\n",
    "        os.rename(\"images/\"+key, \"images/\"+rename)\n",
    "        counter+=1\n",
    "    elif len(str(counter))==2:\n",
    "        rename=key[:5]+f\"0{counter}.png\"\n",
    "        os.rename(\"images/\"+key, \"images/\"+rename)\n",
    "        counter+=1\n",
    "    else:\n",
    "        rename=key[:5]+f\"{counter}.png\"\n",
    "        os.rename(\"images/\"+key, \"images/\"+rename)\n",
    "        counter+=1"
   ]
  }
 ],
 "metadata": {
  "kernelspec": {
   "display_name": "base",
   "language": "python",
   "name": "python3"
  },
  "language_info": {
   "codemirror_mode": {
    "name": "ipython",
    "version": 3
   },
   "file_extension": ".py",
   "mimetype": "text/x-python",
   "name": "python",
   "nbconvert_exporter": "python",
   "pygments_lexer": "ipython3",
   "version": "3.8.8"
  }
 },
 "nbformat": 4,
 "nbformat_minor": 2
}
