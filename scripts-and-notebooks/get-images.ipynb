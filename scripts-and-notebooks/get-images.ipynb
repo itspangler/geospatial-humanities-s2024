{
 "cells": [
  {
   "cell_type": "code",
   "execution_count": 1,
   "metadata": {},
   "outputs": [],
   "source": [
    "import os\n",
    "import operator\n",
    "from pypdf import PdfReader"
   ]
  },
  {
   "cell_type": "code",
   "execution_count": 14,
   "metadata": {},
   "outputs": [],
   "source": [
    "# Save all images from PDF to folder\n",
    "\n",
    "reader = PdfReader('slave-trade.pdf') \n",
    "\n",
    "for page in reader.pages:\n",
    "    for image in page.images:\n",
    "        name=image.name[2:]\n",
    "        length=(len(name))\n",
    "        # if len(name) == 5:\n",
    "        if length == 5:\n",
    "            fname=\"image00\"+name\n",
    "        elif length == 6:\n",
    "            fname=\"image0\"+name\n",
    "        else:\n",
    "            fname=\"image\"+name\n",
    "        with open(f'images/{fname}', \"wb\") as fp:\n",
    "            fp.write(image.data)"
   ]
  }
 ],
 "metadata": {
  "kernelspec": {
   "display_name": "base",
   "language": "python",
   "name": "python3"
  },
  "language_info": {
   "codemirror_mode": {
    "name": "ipython",
    "version": 3
   },
   "file_extension": ".py",
   "mimetype": "text/x-python",
   "name": "python",
   "nbconvert_exporter": "python",
   "pygments_lexer": "ipython3",
   "version": "3.8.8"
  }
 },
 "nbformat": 4,
 "nbformat_minor": 2
}
