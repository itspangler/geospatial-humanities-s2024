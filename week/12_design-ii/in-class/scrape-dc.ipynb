{
 "cells": [
  {
   "cell_type": "code",
   "execution_count": null,
   "metadata": {},
   "outputs": [],
   "source": [
    "import json\n",
    "import requests\n",
    "import pandas as pd\n",
    "\n",
    "# adjust the query variable to change your search terms\n",
    "\n",
    "query=requests.get(\"https://www.digitalcommonwealth.org/search.json?f%5Bgenre_basic_ssim%5D%5B%5D=Cards&f%5Bsubject_facet_ssim%5D%5B%5D=Cities+%26+towns&f%5Bsubject_facet_ssim%5D%5B%5D=Beaches&f%5Bsubject_geographic_sim%5D%5B%5D=United+States&per_page=20\")\n",
    "response = json.dumps(query.json(), indent=2)\n",
    "data = json.loads(response)\n",
    "\n",
    "this = (data['links']['self'])\n",
    "next = (data['links']['next'])\n",
    "final = (data['links']['last'])"
   ]
  },
  {
   "cell_type": "code",
   "execution_count": null,
   "metadata": {},
   "outputs": [],
   "source": [
    "# set pandas dataframe column names\n",
    "\n",
    "columnNames=[]\n",
    "for record in data['data']:    \n",
    "    for field in record['attributes']:\n",
    "        if field not in columnNames:\n",
    "            columnNames.append(field)\n",
    "\n",
    "out=pd.DataFrame(columns=columnNames)"
   ]
  },
  {
   "cell_type": "code",
   "execution_count": null,
   "metadata": {},
   "outputs": [],
   "source": [
    "# walk through search results in JSON format using DC JSON API\n",
    "\n",
    "while True:\n",
    "\n",
    "    # get THIS page and set desired metadata fields\n",
    "\n",
    "    print(\"This page: \"+this)\n",
    "    print(\"Next page: \"+next)\n",
    "    print(\"Last page: \"+final)\n",
    "    for record in data['data']:\n",
    "        print(f\"Processing object ID: {id}\")\n",
    "        id=record['id']\n",
    "        q=requests.get(f'https://www.digitalcommonwealth.org/search/{id}.json')\n",
    "        resp=json.dumps(q.json())\n",
    "        d=json.loads(resp)\n",
    "        i=d['data']['attributes']\n",
    "\n",
    "        # print desired THIS metadata fields\n",
    "\n",
    "        df=pd.DataFrame([i])\n",
    "        out=pd.concat([out, df])\n",
    "\n",
    "    # get NEXT page\n",
    "\n",
    "    query=requests.get(next)\n",
    "    response=json.dumps(query.json(), indent=2)\n",
    "    data = json.loads(response)\n",
    "    \n",
    "    # reset all THIS variables to NEXT\n",
    "    # but save & break if you're at the end\n",
    "\n",
    "    if this == final:\n",
    "        out.to_csv(\"out.csv\")\n",
    "        break\n",
    "    else:\n",
    "        this = (data['links']['self'])\n",
    "        if len(data['links']) > 3:\n",
    "            next = (data['links']['next'])\n",
    "        final = (data['links']['last'])\n",
    "    \n",
    "    out.to_csv(\"out.csv\")"
   ]
  }
 ],
 "metadata": {
  "kernelspec": {
   "display_name": "base",
   "language": "python",
   "name": "python3"
  },
  "language_info": {
   "codemirror_mode": {
    "name": "ipython",
    "version": 3
   },
   "file_extension": ".py",
   "mimetype": "text/x-python",
   "name": "python",
   "nbconvert_exporter": "python",
   "pygments_lexer": "ipython3",
   "version": "3.8.8"
  }
 },
 "nbformat": 4,
 "nbformat_minor": 2
}
