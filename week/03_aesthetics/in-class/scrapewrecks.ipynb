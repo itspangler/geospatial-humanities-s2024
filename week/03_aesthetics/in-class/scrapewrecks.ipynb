{
 "cells": [
  {
   "cell_type": "code",
   "execution_count": 34,
   "metadata": {},
   "outputs": [],
   "source": [
    "from bs4 import BeautifulSoup\n",
    "import pandas as pd\n",
    "import requests\n",
    "import re\n",
    "\n",
    "response=requests.get(\"https://en.wikipedia.org/wiki/List_of_shipwrecks_of_England\")\n",
    "page=BeautifulSoup(response.text, 'html.parser')\n",
    "wrecktable=page.find_all('table',{'class':\"wikitable\"})\n",
    "\n",
    "dfs=[]\n",
    "\n",
    "for table in wrecktable:\n",
    "    df=pd.read_html(str(table))\n",
    "    df=pd.DataFrame(df[0])\n",
    "    dfs.append(df)\n",
    "\n",
    "# def newcol(old, new):\n",
    "#     if old(new)\n",
    "\n",
    "out=pd.concat(dfs)\n",
    "out['y'] = out['Sunk date'].str[-4:]\n",
    "out = out.loc[:,~out.columns.str.match(\"Unnamed\")]\n",
    "\n",
    "# out\n",
    "out.to_csv(\"wrecks_out.csv\", index=False)\n",
    "\n",
    "# def dms_to_dd(d, m, s):\n",
    "#     dd = d + float(m)/60 + float(s)/3600\n",
    "#     return dd\n",
    "\n",
    "# for c in out['Coordinates']:\n",
    "#     try:\n",
    "#         arr=c.split(\" / \")\n",
    "#         ll=arr[1].split(\" \")\n",
    "#         for l in ll:\n",
    "#             deg, minutes, seconds, direction =  re.split('[°\\'\"]', l)\n",
    "#             dec=(float(deg) + float(minutes)/60 + float(seconds)/(60*60)) * (-1 if direction in ['W', 'S'] else 1)\n",
    "#     except:\n",
    "#         pass"
   ]
  }
 ],
 "metadata": {
  "kernelspec": {
   "display_name": "base",
   "language": "python",
   "name": "python3"
  },
  "language_info": {
   "codemirror_mode": {
    "name": "ipython",
    "version": 3
   },
   "file_extension": ".py",
   "mimetype": "text/x-python",
   "name": "python",
   "nbconvert_exporter": "python",
   "pygments_lexer": "ipython3",
   "version": "3.8.8"
  }
 },
 "nbformat": 4,
 "nbformat_minor": 2
}
