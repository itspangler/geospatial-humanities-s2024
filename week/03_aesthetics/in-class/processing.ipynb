{
 "cells": [
  {
   "cell_type": "code",
   "execution_count": 139,
   "metadata": {},
   "outputs": [],
   "source": [
    "import geojson\n",
    "from geojson import dump\n",
    "import json\n",
    "import shapely\n",
    "from shapely import Point\n",
    "from pyproj import Transformer\n",
    "\n",
    "# load lighthouse features,\n",
    "# make GeoJSON template,\n",
    "# and define transformer\n",
    "\n",
    "with open(\"histLightReproj.geojson\") as f:\n",
    "    lh=geojson.load(f)\n",
    "features=lh['features']\n",
    "GeoJson= {\"type\": \"FeatureCollection\",\n",
    "          \"name\": \"lighthouseBuffers\",\n",
    "          \"features\": []\n",
    "          }\n",
    "transformer = Transformer.from_crs(4326, 27700, always_xy=True)\n",
    "\n",
    "# loop through each lighthouse record,\n",
    "# buffer those records with a `REACH_1851` value,\n",
    "# and append them to the template\n",
    "\n",
    "for f in features:\n",
    "    coords=(f['geometry']['coordinates'])\n",
    "    dist=(f['properties']['REACH_1851']*1609.34)\n",
    "    name=(f['properties']['Name'])\n",
    "    if len(json.loads(shapely.to_geojson(shapely.buffer(Point(coords), dist)))['coordinates'][0]) > 0:\n",
    "        feat={\n",
    "        \"type\": \"Feature\",\n",
    "        \"properties\": {\n",
    "            \"Name\": name,\n",
    "        },\n",
    "        \"geometry\": json.loads(shapely.to_geojson(shapely.buffer(Point(coords), dist)))\n",
    "        },\n",
    "        GeoJson['features'].append(feat[0])\n",
    "\n",
    "# export new data as `buffers`\n",
    "\n",
    "with open('buffers.geojson', 'w') as f:\n",
    "   dump(GeoJson, f)\n",
    "\n",
    "\n"
   ]
  }
 ],
 "metadata": {
  "kernelspec": {
   "display_name": "Python 3",
   "language": "python",
   "name": "python3"
  },
  "language_info": {
   "codemirror_mode": {
    "name": "ipython",
    "version": 3
   },
   "file_extension": ".py",
   "mimetype": "text/x-python",
   "name": "python",
   "nbconvert_exporter": "python",
   "pygments_lexer": "ipython3",
   "version": "3.11.6"
  },
  "orig_nbformat": 4
 },
 "nbformat": 4,
 "nbformat_minor": 2
}
